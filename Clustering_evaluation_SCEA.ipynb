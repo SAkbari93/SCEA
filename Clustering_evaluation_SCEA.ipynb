{
  "nbformat": 4,
  "nbformat_minor": 0,
  "metadata": {
    "colab": {
      "provenance": []
    },
    "kernelspec": {
      "name": "python3",
      "display_name": "Python 3"
    },
    "language_info": {
      "name": "python"
    }
  },
  "cells": [
    {
      "cell_type": "code",
      "source": [
        "from sklearn.metrics.cluster import adjusted_rand_score\n",
        "from sklearn.metrics.pairwise import cosine_similarity\n",
        "from sklearn.metrics.cluster import silhouette_score\n",
        "from sklearn.metrics.cluster import normalized_mutual_info_score\n",
        "import pandas as pd\n",
        "import numpy as np\n",
        "from sklearn import preprocessing"
      ],
      "metadata": {
        "id": "WQX00kULn57Z"
      },
      "execution_count": 1,
      "outputs": []
    },
    {
      "cell_type": "code",
      "source": [
        "pred_chung = pd.read_csv(\"pred_chung.txt\", delimiter='\\t')\n",
        "pred_Petropoulos = pd.read_csv(\"pred_Petropoulos.txt\", delimiter='\\t')"
      ],
      "metadata": {
        "id": "8JL2eDeWn7w3"
      },
      "execution_count": 2,
      "outputs": []
    },
    {
      "cell_type": "code",
      "source": [
        "chung_label = pd.read_csv(\"chung_label.csv\")\n",
        "label_Petropoulos = pd.read_csv(\"label_Petropoulos.csv\")\n",
        "\n",
        "le = preprocessing.LabelEncoder()\n",
        "le.fit(chung_label['index3'])\n",
        "label2_ = le.transform(chung_label['index3'])\n",
        "lst = []\n",
        "for i in range(1,1530):\n",
        "  x = \"V\" + str(i)\n",
        "  if x not in list(pred_Petropoulos['cell']):\n",
        "    pass\n",
        "  else : \n",
        "    lst.append(i-1)\n",
        "label_Petropoulos = label_Petropoulos.iloc[lst]\n",
        "le = preprocessing.LabelEncoder()\n",
        "le.fit(label_Petropoulos['label'] )\n",
        "label_Petropoulos['label']  = le.transform(label_Petropoulos['label'] )"
      ],
      "metadata": {
        "id": "mQ0lVuoxoCPM",
        "colab": {
          "base_uri": "https://localhost:8080/"
        },
        "outputId": "9f9f93aa-d49f-4b08-ea89-eebfb8db0019"
      },
      "execution_count": 3,
      "outputs": [
        {
          "output_type": "stream",
          "name": "stderr",
          "text": [
            "<ipython-input-3-e7949d7971f9>:17: SettingWithCopyWarning: \n",
            "A value is trying to be set on a copy of a slice from a DataFrame.\n",
            "Try using .loc[row_indexer,col_indexer] = value instead\n",
            "\n",
            "See the caveats in the documentation: https://pandas.pydata.org/pandas-docs/stable/user_guide/indexing.html#returning-a-view-versus-a-copy\n",
            "  label_Petropoulos['label']  = le.transform(label_Petropoulos['label'] )\n"
          ]
        }
      ]
    },
    {
      "cell_type": "code",
      "source": [
        "chungall = [0.0,0.0,0.0]\n",
        "Petropoulosall = [0.0,0.0,0.0]"
      ],
      "metadata": {
        "id": "8x8-IfWioqh9"
      },
      "execution_count": 4,
      "outputs": []
    },
    {
      "cell_type": "code",
      "source": [
        "Petropoulosall[0] += adjusted_rand_score(label_Petropoulos['label'], pred_Petropoulos['label'])*100\n",
        "Petropoulosall[1] +=cosine_similarity(label_Petropoulos['label'].values.reshape(1, -1), pred_Petropoulos['label'].values.reshape(1, -1))[0][0]*100\n",
        "Petropoulosall[2] +=normalized_mutual_info_score(label_Petropoulos['label'], pred_Petropoulos['label'])*100"
      ],
      "metadata": {
        "id": "ZUht43kzdzly"
      },
      "execution_count": 5,
      "outputs": []
    },
    {
      "cell_type": "code",
      "source": [
        "chungall[0] += adjusted_rand_score(label2_, pred_chung['label']) *100\n",
        "chungall[1] += cosine_similarity(label2_.reshape(1, -1), pred_chung['label'].values.reshape(1, -1))[0][0] *100\n",
        "chungall[2] += normalized_mutual_info_score(label2_, pred_chung['label'])*100"
      ],
      "metadata": {
        "id": "gIM-tw4wd5iL"
      },
      "execution_count": 6,
      "outputs": []
    },
    {
      "cell_type": "code",
      "source": [
        "n=1\n",
        "print(\"for chung :\", \"ARI :\", chungall[0]/n, \"NMI :\", chungall[2]/n, \"CS :\", chungall[1]/n)\n",
        "print(\"for Petropoulos :\", \"ARI :\", Petropoulosall[0]/n, \"NMI :\", Petropoulosall[2]/n, \"CS :\", Petropoulosall[1]/n)"
      ],
      "metadata": {
        "colab": {
          "base_uri": "https://localhost:8080/"
        },
        "id": "xa11DeZ-TuRR",
        "outputId": "ac0b7d65-d470-4de3-ee40-a4bce18bac41"
      },
      "execution_count": 7,
      "outputs": [
        {
          "output_type": "stream",
          "name": "stdout",
          "text": [
            "for chung : ARI : 33.966741695272155 NMI : 49.04001528456919 CS : 54.5068924044332\n",
            "for Petropoulos : ARI : 57.39805721628923 NMI : 64.54931659656545 CS : 86.22786599328484\n"
          ]
        }
      ]
    },
    {
      "cell_type": "code",
      "source": [],
      "metadata": {
        "id": "YyLR8knp_1o9"
      },
      "execution_count": null,
      "outputs": []
    }
  ]
}
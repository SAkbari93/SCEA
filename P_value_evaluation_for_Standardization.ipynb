{
  "nbformat": 4,
  "nbformat_minor": 0,
  "metadata": {
    "colab": {
      "provenance": []
    },
    "kernelspec": {
      "name": "python3",
      "display_name": "Python 3"
    },
    "language_info": {
      "name": "python"
    }
  },
  "cells": [
    {
      "cell_type": "markdown",
      "source": [
        "For klein"
      ],
      "metadata": {
        "id": "V6hfNnjBCNgA"
      }
    },
    {
      "cell_type": "code",
      "execution_count": null,
      "metadata": {
        "id": "vsiWt5C-AYuI"
      },
      "outputs": [],
      "source": [
        "from scipy.stats import ttest_ind"
      ]
    },
    {
      "cell_type": "code",
      "source": [
        "v1 = [84.3, 83.91, 84.31, 84.88, 84.61, 83.95, 84.51, 84.02, 84.22, 84.23, 84.56]\n",
        "v2 = [83.56, 84, 84.11, 84.02, 84, 83.9, 83.65, 83.59, 83.97, 83.99, 84.12]"
      ],
      "metadata": {
        "id": "Lw6XV8vjB7D3"
      },
      "execution_count": null,
      "outputs": []
    },
    {
      "cell_type": "markdown",
      "source": [
        " P value for ARI of klein dataset is acceptable"
      ],
      "metadata": {
        "id": "loFqBEsBCQnw"
      }
    },
    {
      "cell_type": "code",
      "source": [
        "# perform the two-sided t-test\n",
        "t_stat, p_value = ttest_ind(v1, v2)\n",
        "\n",
        "print(\"P-value: \", p_value)"
      ],
      "metadata": {
        "colab": {
          "base_uri": "https://localhost:8080/"
        },
        "id": "io6a0d71CJSD",
        "outputId": "8a65cba9-75fb-4fc1-9299-4517a00b8708"
      },
      "execution_count": null,
      "outputs": [
        {
          "output_type": "stream",
          "name": "stdout",
          "text": [
            "P-value:  0.0010952872329075107\n"
          ]
        }
      ]
    },
    {
      "cell_type": "code",
      "source": [
        "n1 = [86.92, 87.07, 86.4, 86.93, 86.81, 86.83, 86.98, 87.12, 86.99, 87.19, 86.96]\n",
        "n2 = [86.34, 86.25, 86.41, 86.51, 86.45, 86.43, 86.59, 86.63, 86.36, 86.62, 86.19]"
      ],
      "metadata": {
        "id": "WO-HOt6PCfjq"
      },
      "execution_count": null,
      "outputs": []
    },
    {
      "cell_type": "markdown",
      "source": [
        " P value for NMI of klein dataset is acceptable"
      ],
      "metadata": {
        "id": "PKChjAt-Cwlw"
      }
    },
    {
      "cell_type": "code",
      "source": [
        "# perform the two-sided t-test\n",
        "t_stat, p_value = ttest_ind(n1, n2)\n",
        "\n",
        "print(\"P-value: \", p_value)"
      ],
      "metadata": {
        "colab": {
          "base_uri": "https://localhost:8080/"
        },
        "id": "DyI76A32Cfps",
        "outputId": "dd1fdd7e-6a4d-487f-f205-14facac768e9"
      },
      "execution_count": null,
      "outputs": [
        {
          "output_type": "stream",
          "name": "stdout",
          "text": [
            "P-value:  2.8931895611866846e-06\n"
          ]
        }
      ]
    },
    {
      "cell_type": "markdown",
      "source": [
        "For Chung"
      ],
      "metadata": {
        "id": "umdpvXYLCzVa"
      }
    },
    {
      "cell_type": "code",
      "source": [
        "c1 = [31.98, 31.65, 31.4, 31.05, 31.98, 32.14, 32.1, 32.145, 31.98, 31.25, 31.3]\n",
        "c2 = [31.22, 31.02, 30.98, 30.91, 31.65, 31.14, 31.14, 30.82, 30.89, 31.39, 31.01]"
      ],
      "metadata": {
        "id": "pzHRwjCnCLHu"
      },
      "execution_count": null,
      "outputs": []
    },
    {
      "cell_type": "markdown",
      "source": [
        " P value for ARI of Chung dataset is acceptable"
      ],
      "metadata": {
        "id": "1o84So3KEC8R"
      }
    },
    {
      "cell_type": "code",
      "source": [
        "# perform the two-sided t-test\n",
        "t_stat, p_value = ttest_ind(c1, c2)\n",
        "\n",
        "print(\"P-value: \", p_value)"
      ],
      "metadata": {
        "colab": {
          "base_uri": "https://localhost:8080/"
        },
        "id": "gdO6Z5fLDGj_",
        "outputId": "a8c67d80-edaf-4ac9-ddb8-9ac9d7b232a1"
      },
      "execution_count": null,
      "outputs": [
        {
          "output_type": "stream",
          "name": "stdout",
          "text": [
            "P-value:  0.00032770362528699974\n"
          ]
        }
      ]
    },
    {
      "cell_type": "code",
      "source": [
        "m1 = [49.04, 49.14, 48.89, 49.49, 49.13, 48.89, 49.13, 48.72, 49.32, 49, 49.1]\n",
        "m2 = [47.66, 47.81, 47.81, 47.92, 48.15, 48.13, 47.81, 47.81, 47.49, 47.69, 47.82]"
      ],
      "metadata": {
        "id": "qTMfVT_JD-lL"
      },
      "execution_count": null,
      "outputs": []
    },
    {
      "cell_type": "markdown",
      "source": [
        " P value for NMI of klein dataset is acceptable"
      ],
      "metadata": {
        "id": "AA4J5iDzEU_4"
      }
    },
    {
      "cell_type": "code",
      "source": [
        "# perform the two-sided t-test\n",
        "t_stat, p_value = ttest_ind(m1, m2)\n",
        "\n",
        "print(\"P-value: \", p_value)"
      ],
      "metadata": {
        "colab": {
          "base_uri": "https://localhost:8080/"
        },
        "id": "zl9Pl2tZEPqF",
        "outputId": "8c07f5e2-d621-4bdd-cc91-ba48cd94552e"
      },
      "execution_count": null,
      "outputs": [
        {
          "output_type": "stream",
          "name": "stdout",
          "text": [
            "P-value:  4.1560832948960194e-12\n"
          ]
        }
      ]
    },
    {
      "cell_type": "markdown",
      "source": [
        "For Mouse brain"
      ],
      "metadata": {
        "id": "xNvYMFRzEZsK"
      }
    },
    {
      "cell_type": "code",
      "source": [
        "r1 = [78.62, 78.11, 78.14, 78.25, 77.98, 77.9, 78.44, 78.21, 78.98, 78.11, 78.2]\n",
        "r2 = [76.19, 77.3, 77.01, 76.13, 76.55, 76.58, 76.24, 77.0, 76.29, 76.47, 76.78]"
      ],
      "metadata": {
        "id": "RQAKZ6OSER6_"
      },
      "execution_count": null,
      "outputs": []
    },
    {
      "cell_type": "markdown",
      "source": [
        " P value for ARI of Mouse brain dataset is acceptable\n"
      ],
      "metadata": {
        "id": "M5DBobJQG3ZZ"
      }
    },
    {
      "cell_type": "code",
      "source": [
        "# perform the two-sided t-test\n",
        "t_stat, p_value = ttest_ind(r1, r2)\n",
        "\n",
        "print(\"P-value: \", p_value)"
      ],
      "metadata": {
        "colab": {
          "base_uri": "https://localhost:8080/"
        },
        "id": "fn5Eu_oJEmVy",
        "outputId": "14c93359-a3ca-4868-f5c6-9ea62100a713"
      },
      "execution_count": null,
      "outputs": [
        {
          "output_type": "stream",
          "name": "stdout",
          "text": [
            "P-value:  4.310495966273338e-10\n"
          ]
        }
      ]
    },
    {
      "cell_type": "markdown",
      "source": [
        " P value for NMI of Mouse brain dataset is acceptable\n"
      ],
      "metadata": {
        "id": "A53t7yZCHJFD"
      }
    },
    {
      "cell_type": "code",
      "source": [
        "e1 = [74.18, 74.02, 73.93, 73.87, 73.92, 73.97, 74.12, 73.98, 74.25, 73.91, 73.98]\n",
        "e2 = [73.12, 73.12, 72.99, 73.02, 72.99, 72.91, 73.14, 73.08, 73.14, 73.19, 73.19]"
      ],
      "metadata": {
        "id": "mi6Al1xeEng5"
      },
      "execution_count": null,
      "outputs": []
    },
    {
      "cell_type": "code",
      "source": [
        "# perform the two-sided t-test\n",
        "t_stat, p_value = ttest_ind(e1, e2)\n",
        "\n",
        "print(\"P-value: \", p_value)"
      ],
      "metadata": {
        "colab": {
          "base_uri": "https://localhost:8080/"
        },
        "id": "u3t-1NFuEnj4",
        "outputId": "47782193-5451-4e81-debd-df0780c0fe48"
      },
      "execution_count": null,
      "outputs": [
        {
          "output_type": "stream",
          "name": "stdout",
          "text": [
            "P-value:  7.520697701219426e-15\n"
          ]
        }
      ]
    },
    {
      "cell_type": "markdown",
      "source": [
        "For Neuron"
      ],
      "metadata": {
        "id": "xFw7XCPQE8EH"
      }
    },
    {
      "cell_type": "code",
      "source": [
        "o1 = [40.25, 40.109, 40.132, 40.65, 40.29, 40.03, 39.98, 40.73, 39.84, 40.56, 40.28]\n",
        "o2 = [39.01, 38.82, 38.84, 38.84, 38.91, 38.93, 37.91, 38.66, 38.91, 38.99, 39.99]"
      ],
      "metadata": {
        "id": "i8SN1bxrE6UC"
      },
      "execution_count": null,
      "outputs": []
    },
    {
      "cell_type": "markdown",
      "source": [
        " P value for ARI of Neuron dataset is acceptable\n"
      ],
      "metadata": {
        "id": "1Ehu_-eGG6zE"
      }
    },
    {
      "cell_type": "code",
      "source": [
        "# perform the two-sided t-test\n",
        "t_stat, p_value = ttest_ind(o1, o2)\n",
        "\n",
        "print(\"P-value: \", p_value)"
      ],
      "metadata": {
        "colab": {
          "base_uri": "https://localhost:8080/"
        },
        "id": "g_htl7ODFKsm",
        "outputId": "d4355dc4-7553-418d-ec38-a8b738d2f81d"
      },
      "execution_count": null,
      "outputs": [
        {
          "output_type": "stream",
          "name": "stdout",
          "text": [
            "P-value:  8.201347302496749e-08\n"
          ]
        }
      ]
    },
    {
      "cell_type": "code",
      "source": [
        "p1 = [46.01, 45.91, 45.98, 45.97, 45.94, 46.19, 46.05, 45.91, 45.94, 45.94, 46.09]\n",
        "p2 = [44.3, 44.21, 44.18, 44.14, 44.51, 44.13, 44.27, 44.191, 44.06, 44.4, 44.23]"
      ],
      "metadata": {
        "id": "NXqLzAv6FWSB"
      },
      "execution_count": null,
      "outputs": []
    },
    {
      "cell_type": "markdown",
      "source": [
        " P value for NMI of Neuron dataset is acceptable\n"
      ],
      "metadata": {
        "id": "FZAWr5bzHLdK"
      }
    },
    {
      "cell_type": "code",
      "source": [
        "# perform the two-sided t-test\n",
        "t_stat, p_value = ttest_ind(p1, p2)\n",
        "\n",
        "print(\"P-value: \", p_value)"
      ],
      "metadata": {
        "colab": {
          "base_uri": "https://localhost:8080/"
        },
        "id": "RkuHR667FWU5",
        "outputId": "571d0542-e96f-40d7-973d-be4b9ddea97c"
      },
      "execution_count": null,
      "outputs": [
        {
          "output_type": "stream",
          "name": "stdout",
          "text": [
            "P-value:  4.8211705260848626e-20\n"
          ]
        }
      ]
    },
    {
      "cell_type": "markdown",
      "source": [
        "For Romanov"
      ],
      "metadata": {
        "id": "pDiROuFoFNsJ"
      }
    },
    {
      "cell_type": "code",
      "source": [
        "t1 = [60.01, 59.91, 60.11, 59.98, 59.991, 59.91, 60.01, 60.011, 60.14, 60.11, 59.9]\n",
        "t2 = [56.14, 55.72, 56.45, 56.39, 56.13, 55.84, 55.91, 56.13, 56.109, 56.0, 55.89]"
      ],
      "metadata": {
        "id": "bAN4IjfyFM88"
      },
      "execution_count": null,
      "outputs": []
    },
    {
      "cell_type": "markdown",
      "source": [
        " P value for ARI of Romanov dataset is acceptable\n",
        "\n",
        "\n",
        "\n",
        "\n"
      ],
      "metadata": {
        "id": "cVC35zFrG9X2"
      }
    },
    {
      "cell_type": "code",
      "source": [
        "# perform the two-sided t-test\n",
        "t_stat, p_value = ttest_ind(t1, t2)\n",
        "\n",
        "print(\"P-value: \", p_value)"
      ],
      "metadata": {
        "colab": {
          "base_uri": "https://localhost:8080/"
        },
        "id": "X1Sxf_MIFcUI",
        "outputId": "720fc951-c57f-4cec-fc82-ba02e97e648f"
      },
      "execution_count": null,
      "outputs": [
        {
          "output_type": "stream",
          "name": "stdout",
          "text": [
            "P-value:  2.794012317977918e-23\n"
          ]
        }
      ]
    },
    {
      "cell_type": "code",
      "source": [
        "x1 = [53.48, 53.66, 53.58, 53.39, 53.65, 53.14, 53.79, 53.42, 53.53, 53.92, 53.56]\n",
        "x2 = [53.34, 53.42, 53.49, 53.4, 53.32, 53.25, 53.25, 53.39, 53.49, 53.41, 53.32]"
      ],
      "metadata": {
        "id": "zoTyD4JcFfN5"
      },
      "execution_count": null,
      "outputs": []
    },
    {
      "cell_type": "markdown",
      "source": [
        " P value for NMI of Romanov dataset is acceptable\n"
      ],
      "metadata": {
        "id": "Nbz070OzHRz8"
      }
    },
    {
      "cell_type": "code",
      "source": [
        "# perform the two-sided t-test\n",
        "t_stat, p_value = ttest_ind(t1, t2)\n",
        "\n",
        "print(\"P-value: \", p_value)"
      ],
      "metadata": {
        "colab": {
          "base_uri": "https://localhost:8080/"
        },
        "id": "jZEOx4DEGmKF",
        "outputId": "706d2c43-435b-4e9c-95de-a55b67dfc2b3"
      },
      "execution_count": null,
      "outputs": [
        {
          "output_type": "stream",
          "name": "stdout",
          "text": [
            "P-value:  2.794012317977918e-23\n"
          ]
        }
      ]
    },
    {
      "cell_type": "markdown",
      "source": [
        "For Mouse"
      ],
      "metadata": {
        "id": "a45aCpXfJmIm"
      }
    },
    {
      "cell_type": "code",
      "source": [
        "k1 = [44.23, 44.51, 44.49, 44.68, 44.91, 44.51, 44.69, 44.73, 44.86, 45.14, 44.73]\n",
        "k2 = [41.87, 42.13, 42.05, 42.0, 41.91, 41.86, 41.78, 41.99, 41.96, 42.04, 42.13]"
      ],
      "metadata": {
        "id": "JTApgGU-JnYw"
      },
      "execution_count": null,
      "outputs": []
    },
    {
      "cell_type": "markdown",
      "source": [
        " P value for ARI of Mouse dataset is acceptable\n"
      ],
      "metadata": {
        "id": "prTepTvxLBdi"
      }
    },
    {
      "cell_type": "code",
      "source": [
        "# perform the two-sided t-test\n",
        "t_stat, p_value = ttest_ind(k1, k2)\n",
        "\n",
        "print(\"P-value: \", p_value)"
      ],
      "metadata": {
        "colab": {
          "base_uri": "https://localhost:8080/"
        },
        "id": "PoCdq7vxKbmY",
        "outputId": "b59d8f84-e231-41a4-e839-9893ad3fb5bf"
      },
      "execution_count": null,
      "outputs": [
        {
          "output_type": "stream",
          "name": "stdout",
          "text": [
            "P-value:  5.2517855423810275e-19\n"
          ]
        }
      ]
    },
    {
      "cell_type": "code",
      "source": [
        "l1 = [67.13, 67.32, 67.19, 67.11, 67.28, 67.27, 67.31, 67.16, 67.06, 67.32, 67.21]\n",
        "l2 = [66.32, 66.26, 66.49, 66.14, 66.14, 66.09, 66.36, 66.34, 66.1, 66.43, 66.29]"
      ],
      "metadata": {
        "id": "j0BrvbqcKeCZ"
      },
      "execution_count": null,
      "outputs": []
    },
    {
      "cell_type": "markdown",
      "source": [
        " P value for NMI of Mouse dataset is acceptable\n"
      ],
      "metadata": {
        "id": "k6udxnC3LDTp"
      }
    },
    {
      "cell_type": "code",
      "source": [
        "# perform the two-sided t-test\n",
        "t_stat, p_value = ttest_ind(l1, l2)\n",
        "\n",
        "print(\"P-value: \", p_value)"
      ],
      "metadata": {
        "colab": {
          "base_uri": "https://localhost:8080/"
        },
        "id": "DARmPxK4KkpG",
        "outputId": "ff56c7f1-303e-4a2f-983e-3fa564c6e12a"
      },
      "execution_count": null,
      "outputs": [
        {
          "output_type": "stream",
          "name": "stdout",
          "text": [
            "P-value:  2.5810643751274097e-14\n"
          ]
        }
      ]
    },
    {
      "cell_type": "code",
      "source": [],
      "metadata": {
        "id": "X9dMf5VtK9vI"
      },
      "execution_count": null,
      "outputs": []
    }
  ]
}